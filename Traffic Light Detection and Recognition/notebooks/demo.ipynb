{
  "cells": [
    {
      "cell_type": "code",
      "execution_count": 1,
      "metadata": {
        "colab": {
          "base_uri": "https://localhost:8080/"
        },
        "id": "2ksqv8o51Wbd",
        "outputId": "4f9fe063-764c-4958-aadd-aaee73a7217c"
      },
      "outputs": [
        {
          "output_type": "stream",
          "name": "stdout",
          "text": [
            "Collecting ultralytics\n",
            "  Downloading ultralytics-8.3.201-py3-none-any.whl.metadata (37 kB)\n",
            "Requirement already satisfied: opencv-python in /usr/local/lib/python3.12/dist-packages (4.12.0.88)\n",
            "Requirement already satisfied: matplotlib in /usr/local/lib/python3.12/dist-packages (3.10.0)\n",
            "Requirement already satisfied: numpy>=1.23.0 in /usr/local/lib/python3.12/dist-packages (from ultralytics) (2.0.2)\n",
            "Requirement already satisfied: pillow>=7.1.2 in /usr/local/lib/python3.12/dist-packages (from ultralytics) (11.3.0)\n",
            "Requirement already satisfied: pyyaml>=5.3.1 in /usr/local/lib/python3.12/dist-packages (from ultralytics) (6.0.2)\n",
            "Requirement already satisfied: requests>=2.23.0 in /usr/local/lib/python3.12/dist-packages (from ultralytics) (2.32.4)\n",
            "Requirement already satisfied: scipy>=1.4.1 in /usr/local/lib/python3.12/dist-packages (from ultralytics) (1.16.1)\n",
            "Requirement already satisfied: torch>=1.8.0 in /usr/local/lib/python3.12/dist-packages (from ultralytics) (2.8.0+cu126)\n",
            "Requirement already satisfied: torchvision>=0.9.0 in /usr/local/lib/python3.12/dist-packages (from ultralytics) (0.23.0+cu126)\n",
            "Requirement already satisfied: psutil in /usr/local/lib/python3.12/dist-packages (from ultralytics) (5.9.5)\n",
            "Requirement already satisfied: polars in /usr/local/lib/python3.12/dist-packages (from ultralytics) (1.25.2)\n",
            "Collecting ultralytics-thop>=2.0.0 (from ultralytics)\n",
            "  Downloading ultralytics_thop-2.0.17-py3-none-any.whl.metadata (14 kB)\n",
            "Requirement already satisfied: contourpy>=1.0.1 in /usr/local/lib/python3.12/dist-packages (from matplotlib) (1.3.3)\n",
            "Requirement already satisfied: cycler>=0.10 in /usr/local/lib/python3.12/dist-packages (from matplotlib) (0.12.1)\n",
            "Requirement already satisfied: fonttools>=4.22.0 in /usr/local/lib/python3.12/dist-packages (from matplotlib) (4.59.2)\n",
            "Requirement already satisfied: kiwisolver>=1.3.1 in /usr/local/lib/python3.12/dist-packages (from matplotlib) (1.4.9)\n",
            "Requirement already satisfied: packaging>=20.0 in /usr/local/lib/python3.12/dist-packages (from matplotlib) (25.0)\n",
            "Requirement already satisfied: pyparsing>=2.3.1 in /usr/local/lib/python3.12/dist-packages (from matplotlib) (3.2.3)\n",
            "Requirement already satisfied: python-dateutil>=2.7 in /usr/local/lib/python3.12/dist-packages (from matplotlib) (2.9.0.post0)\n",
            "Requirement already satisfied: six>=1.5 in /usr/local/lib/python3.12/dist-packages (from python-dateutil>=2.7->matplotlib) (1.17.0)\n",
            "Requirement already satisfied: charset_normalizer<4,>=2 in /usr/local/lib/python3.12/dist-packages (from requests>=2.23.0->ultralytics) (3.4.3)\n",
            "Requirement already satisfied: idna<4,>=2.5 in /usr/local/lib/python3.12/dist-packages (from requests>=2.23.0->ultralytics) (3.10)\n",
            "Requirement already satisfied: urllib3<3,>=1.21.1 in /usr/local/lib/python3.12/dist-packages (from requests>=2.23.0->ultralytics) (2.5.0)\n",
            "Requirement already satisfied: certifi>=2017.4.17 in /usr/local/lib/python3.12/dist-packages (from requests>=2.23.0->ultralytics) (2025.8.3)\n",
            "Requirement already satisfied: filelock in /usr/local/lib/python3.12/dist-packages (from torch>=1.8.0->ultralytics) (3.19.1)\n",
            "Requirement already satisfied: typing-extensions>=4.10.0 in /usr/local/lib/python3.12/dist-packages (from torch>=1.8.0->ultralytics) (4.15.0)\n",
            "Requirement already satisfied: setuptools in /usr/local/lib/python3.12/dist-packages (from torch>=1.8.0->ultralytics) (75.2.0)\n",
            "Requirement already satisfied: sympy>=1.13.3 in /usr/local/lib/python3.12/dist-packages (from torch>=1.8.0->ultralytics) (1.13.3)\n",
            "Requirement already satisfied: networkx in /usr/local/lib/python3.12/dist-packages (from torch>=1.8.0->ultralytics) (3.5)\n",
            "Requirement already satisfied: jinja2 in /usr/local/lib/python3.12/dist-packages (from torch>=1.8.0->ultralytics) (3.1.6)\n",
            "Requirement already satisfied: fsspec in /usr/local/lib/python3.12/dist-packages (from torch>=1.8.0->ultralytics) (2025.3.0)\n",
            "Requirement already satisfied: nvidia-cuda-nvrtc-cu12==12.6.77 in /usr/local/lib/python3.12/dist-packages (from torch>=1.8.0->ultralytics) (12.6.77)\n",
            "Requirement already satisfied: nvidia-cuda-runtime-cu12==12.6.77 in /usr/local/lib/python3.12/dist-packages (from torch>=1.8.0->ultralytics) (12.6.77)\n",
            "Requirement already satisfied: nvidia-cuda-cupti-cu12==12.6.80 in /usr/local/lib/python3.12/dist-packages (from torch>=1.8.0->ultralytics) (12.6.80)\n",
            "Requirement already satisfied: nvidia-cudnn-cu12==9.10.2.21 in /usr/local/lib/python3.12/dist-packages (from torch>=1.8.0->ultralytics) (9.10.2.21)\n",
            "Requirement already satisfied: nvidia-cublas-cu12==12.6.4.1 in /usr/local/lib/python3.12/dist-packages (from torch>=1.8.0->ultralytics) (12.6.4.1)\n",
            "Requirement already satisfied: nvidia-cufft-cu12==11.3.0.4 in /usr/local/lib/python3.12/dist-packages (from torch>=1.8.0->ultralytics) (11.3.0.4)\n",
            "Requirement already satisfied: nvidia-curand-cu12==10.3.7.77 in /usr/local/lib/python3.12/dist-packages (from torch>=1.8.0->ultralytics) (10.3.7.77)\n",
            "Requirement already satisfied: nvidia-cusolver-cu12==11.7.1.2 in /usr/local/lib/python3.12/dist-packages (from torch>=1.8.0->ultralytics) (11.7.1.2)\n",
            "Requirement already satisfied: nvidia-cusparse-cu12==12.5.4.2 in /usr/local/lib/python3.12/dist-packages (from torch>=1.8.0->ultralytics) (12.5.4.2)\n",
            "Requirement already satisfied: nvidia-cusparselt-cu12==0.7.1 in /usr/local/lib/python3.12/dist-packages (from torch>=1.8.0->ultralytics) (0.7.1)\n",
            "Requirement already satisfied: nvidia-nccl-cu12==2.27.3 in /usr/local/lib/python3.12/dist-packages (from torch>=1.8.0->ultralytics) (2.27.3)\n",
            "Requirement already satisfied: nvidia-nvtx-cu12==12.6.77 in /usr/local/lib/python3.12/dist-packages (from torch>=1.8.0->ultralytics) (12.6.77)\n",
            "Requirement already satisfied: nvidia-nvjitlink-cu12==12.6.85 in /usr/local/lib/python3.12/dist-packages (from torch>=1.8.0->ultralytics) (12.6.85)\n",
            "Requirement already satisfied: nvidia-cufile-cu12==1.11.1.6 in /usr/local/lib/python3.12/dist-packages (from torch>=1.8.0->ultralytics) (1.11.1.6)\n",
            "Requirement already satisfied: triton==3.4.0 in /usr/local/lib/python3.12/dist-packages (from torch>=1.8.0->ultralytics) (3.4.0)\n",
            "Requirement already satisfied: mpmath<1.4,>=1.1.0 in /usr/local/lib/python3.12/dist-packages (from sympy>=1.13.3->torch>=1.8.0->ultralytics) (1.3.0)\n",
            "Requirement already satisfied: MarkupSafe>=2.0 in /usr/local/lib/python3.12/dist-packages (from jinja2->torch>=1.8.0->ultralytics) (3.0.2)\n",
            "Downloading ultralytics-8.3.201-py3-none-any.whl (1.1 MB)\n",
            "\u001b[2K   \u001b[90m━━━━━━━━━━━━━━━━━━━━━━━━━━━━━━━━━━━━━━━━\u001b[0m \u001b[32m1.1/1.1 MB\u001b[0m \u001b[31m29.3 MB/s\u001b[0m eta \u001b[36m0:00:00\u001b[0m\n",
            "\u001b[?25hDownloading ultralytics_thop-2.0.17-py3-none-any.whl (28 kB)\n",
            "Installing collected packages: ultralytics-thop, ultralytics\n",
            "Successfully installed ultralytics-8.3.201 ultralytics-thop-2.0.17\n"
          ]
        }
      ],
      "source": [
        "# Step 1: Traffic Light Detection Only\n",
        "!pip install ultralytics opencv-python matplotlib"
      ]
    },
    {
      "cell_type": "code",
      "source": [
        "from ultralytics import YOLO\n",
        "import cv2, numpy as np, torch, warnings\n",
        "warnings.filterwarnings(\"ignore\", category=UserWarning)\n",
        "\n",
        "# Load model\n",
        "model = YOLO(\"yolov8m.pt\")\n",
        "\n",
        "# --- find class id for 'traffic light' ---\n",
        "def find_class_id(names, target=\"traffic light\"):\n",
        "    if isinstance(names, dict):\n",
        "        for k, v in names.items():\n",
        "            if str(v).lower() == target.lower():\n",
        "                return int(k)\n",
        "    else:\n",
        "        try:\n",
        "            return int(list(names).index(target))\n",
        "        except ValueError:\n",
        "            return None\n",
        "    return None\n",
        "\n",
        "traffic_id = find_class_id(model.names, \"traffic light\")\n",
        "if traffic_id is None:\n",
        "    for alt in [\"traffic_light\", \"trafficlight\"]:\n",
        "        traffic_id = find_class_id(model.names, alt)\n",
        "        if traffic_id is not None:\n",
        "            break\n",
        "if traffic_id is None:\n",
        "    raise ValueError(f\"'traffic light' not found in model.names\")\n",
        "\n",
        "print(\"Traffic-light class id:\", traffic_id)\n",
        "device = '0' if torch.cuda.is_available() else 'cpu'\n",
        "\n",
        "\n",
        "# --------------------------\n",
        "# IMAGE WORKFLOW\n",
        "# --------------------------\n",
        "def process_image(img_path):\n",
        "    results = model.predict(\n",
        "        source=img_path,\n",
        "        conf=0.25,\n",
        "        imgsz=640,\n",
        "        classes=[traffic_id],\n",
        "        device=device,\n",
        "        verbose=False\n",
        "    )\n",
        "    r = results[0]\n",
        "    img = cv2.imread(img_path)\n",
        "\n",
        "    if hasattr(r, \"boxes\") and len(r.boxes) > 0:\n",
        "        xyxy = r.boxes.xyxy.cpu().numpy()\n",
        "        confs = r.boxes.conf.cpu().numpy()\n",
        "        for i in range(len(xyxy)):\n",
        "            x1,y1,x2,y2 = xyxy[i].astype(int)\n",
        "            conf = confs[i]\n",
        "\n",
        "            crop = img[y1:y2, x1:x2]\n",
        "            color = get_signal_color(crop)\n",
        "\n",
        "            cv2.rectangle(img, (x1,y1), (x2,y2), (0,255,0), 2)\n",
        "            label = f\"{color} {conf:.2f}\"\n",
        "            cv2.putText(img, label, (x1, max(0,y1-10)),\n",
        "                        cv2.FONT_HERSHEY_SIMPLEX, 0.6, (255,255,255), 2)\n",
        "\n",
        "    from google.colab.patches import cv2_imshow\n",
        "    cv2_imshow(img)\n",
        "\n",
        "\n",
        "\n",
        "# --------------------------\n",
        "# VIDEO WORKFLOW\n",
        "# --------------------------\n",
        "def process_video(video_path, save_path=\"output.avi\"):\n",
        "    cap = cv2.VideoCapture(video_path)\n",
        "\n",
        "    fps = cap.get(cv2.CAP_PROP_FPS)\n",
        "    if fps <= 0 or np.isnan(fps):\n",
        "        fps = 25\n",
        "\n",
        "    w  = int(cap.get(cv2.CAP_PROP_FRAME_WIDTH))\n",
        "    h  = int(cap.get(cv2.CAP_PROP_FRAME_HEIGHT))\n",
        "\n",
        "    fourcc = cv2.VideoWriter_fourcc(*'XVID')\n",
        "    out = cv2.VideoWriter(save_path, fourcc, fps, (w,h))\n",
        "\n",
        "    frame_count = 0\n",
        "    while True:\n",
        "        ret, frame = cap.read()\n",
        "        if not ret:\n",
        "            break\n",
        "        frame_count += 1\n",
        "\n",
        "        results = model.predict(\n",
        "            source=frame,\n",
        "            conf=0.25,\n",
        "            imgsz=640,\n",
        "            classes=[traffic_id],\n",
        "            device=device,\n",
        "            verbose=False\n",
        "        )\n",
        "        r = results[0]\n",
        "\n",
        "        if hasattr(r, \"boxes\") and len(r.boxes) > 0:\n",
        "            xyxy = r.boxes.xyxy.cpu().numpy()\n",
        "            confs = r.boxes.conf.cpu().numpy()\n",
        "            for i in range(len(xyxy)):\n",
        "                x1,y1,x2,y2 = xyxy[i].astype(int)\n",
        "                conf = confs[i]\n",
        "\n",
        "                crop = frame[y1:y2, x1:x2]\n",
        "                color = get_signal_color(crop)\n",
        "\n",
        "                cv2.rectangle(frame, (x1,y1), (x2,y2), (0,255,0), 2)\n",
        "                cv2.putText(frame, f\"{color} {conf:.2f}\",\n",
        "                            (x1, max(0,y1-10)), cv2.FONT_HERSHEY_SIMPLEX,\n",
        "                            0.6, (255,255,255), 2)\n",
        "\n",
        "        out.write(frame)\n",
        "\n",
        "    cap.release()\n",
        "    out.release()\n",
        "    print(f\"✅ Processed {frame_count} frames. Saved to {save_path}\")\n",
        "\n",
        "\n",
        "\n",
        "# Example usage:\n",
        "# process_image(\"/content/traffic light.png\")\n",
        "\n",
        "process_video(\"/content/VDO Traffic Lights 2 seconds green.mp4\",\n",
        "              save_path=\"/content/detected_output.avi\")"
      ],
      "metadata": {
        "colab": {
          "base_uri": "https://localhost:8080/"
        },
        "id": "iLPd6YfSoOg8",
        "outputId": "dd521622-f856-4cab-a6f8-6dd43c99bf9b"
      },
      "execution_count": 18,
      "outputs": [
        {
          "output_type": "stream",
          "name": "stdout",
          "text": [
            "Traffic-light class id: 9\n",
            "✅ Processed 1171 frames. Saved to /content/detected_output.avi\n"
          ]
        }
      ]
    },
    {
      "cell_type": "code",
      "source": [
        "from google.colab import files\n",
        "files.download(\"/content/detected_output.avi\")"
      ],
      "metadata": {
        "colab": {
          "base_uri": "https://localhost:8080/",
          "height": 17
        },
        "id": "l05TUG9oyyDM",
        "outputId": "79a4d438-417b-4c94-f313-ae21f654bdcf"
      },
      "execution_count": 19,
      "outputs": [
        {
          "output_type": "display_data",
          "data": {
            "text/plain": [
              "<IPython.core.display.Javascript object>"
            ],
            "application/javascript": [
              "\n",
              "    async function download(id, filename, size) {\n",
              "      if (!google.colab.kernel.accessAllowed) {\n",
              "        return;\n",
              "      }\n",
              "      const div = document.createElement('div');\n",
              "      const label = document.createElement('label');\n",
              "      label.textContent = `Downloading \"${filename}\": `;\n",
              "      div.appendChild(label);\n",
              "      const progress = document.createElement('progress');\n",
              "      progress.max = size;\n",
              "      div.appendChild(progress);\n",
              "      document.body.appendChild(div);\n",
              "\n",
              "      const buffers = [];\n",
              "      let downloaded = 0;\n",
              "\n",
              "      const channel = await google.colab.kernel.comms.open(id);\n",
              "      // Send a message to notify the kernel that we're ready.\n",
              "      channel.send({})\n",
              "\n",
              "      for await (const message of channel.messages) {\n",
              "        // Send a message to notify the kernel that we're ready.\n",
              "        channel.send({})\n",
              "        if (message.buffers) {\n",
              "          for (const buffer of message.buffers) {\n",
              "            buffers.push(buffer);\n",
              "            downloaded += buffer.byteLength;\n",
              "            progress.value = downloaded;\n",
              "          }\n",
              "        }\n",
              "      }\n",
              "      const blob = new Blob(buffers, {type: 'application/binary'});\n",
              "      const a = document.createElement('a');\n",
              "      a.href = window.URL.createObjectURL(blob);\n",
              "      a.download = filename;\n",
              "      div.appendChild(a);\n",
              "      a.click();\n",
              "      div.remove();\n",
              "    }\n",
              "  "
            ]
          },
          "metadata": {}
        },
        {
          "output_type": "display_data",
          "data": {
            "text/plain": [
              "<IPython.core.display.Javascript object>"
            ],
            "application/javascript": [
              "download(\"download_5b26aa6b-4abc-411e-8f2c-5110b4c562fb\", \"detected_output.avi\", 29580140)"
            ]
          },
          "metadata": {}
        }
      ]
    },
    {
      "cell_type": "code",
      "source": [
        "def get_signal_color(crop_bgr):\n",
        "    \"\"\"\n",
        "    Classify the traffic light signal color (red, yellow, green) using HSV masks.\n",
        "    \"\"\"\n",
        "    hsv = cv2.cvtColor(crop_bgr, cv2.COLOR_BGR2HSV)\n",
        "\n",
        "    # HSV ranges for colors\n",
        "    red1 = cv2.inRange(hsv, (0, 70, 50), (10, 255, 255))\n",
        "    red2 = cv2.inRange(hsv, (170, 70, 50), (180, 255, 255))\n",
        "    red_mask = cv2.bitwise_or(red1, red2)\n",
        "\n",
        "    yellow_mask = cv2.inRange(hsv, (15, 70, 50), (35, 255, 255))\n",
        "    green_mask  = cv2.inRange(hsv, (40, 70, 50), (90, 255, 255))\n",
        "\n",
        "    # Count non-zero pixels\n",
        "    r, y, g = cv2.countNonZero(red_mask), cv2.countNonZero(yellow_mask), cv2.countNonZero(green_mask)\n",
        "\n",
        "    if max(r, y, g) == 0:\n",
        "        return \"unknown\"\n",
        "    if r > y and r > g:\n",
        "        return \"red\"\n",
        "    elif y > r and y > g:\n",
        "        return \"yellow\"\n",
        "    else:\n",
        "        return \"green\"\n"
      ],
      "metadata": {
        "id": "vN8IpxXWrP8k"
      },
      "execution_count": 15,
      "outputs": []
    },
    {
      "cell_type": "code",
      "source": [],
      "metadata": {
        "id": "1umnqXgTxWiT"
      },
      "execution_count": null,
      "outputs": []
    }
  ],
  "metadata": {
    "colab": {
      "provenance": [],
      "gpuType": "T4"
    },
    "kernelspec": {
      "display_name": "Python 3",
      "name": "python3"
    },
    "language_info": {
      "name": "python"
    },
    "accelerator": "GPU"
  },
  "nbformat": 4,
  "nbformat_minor": 0
}